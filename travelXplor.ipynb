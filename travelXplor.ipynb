{
 "cells": [
  {
   "cell_type": "code",
   "execution_count": null,
   "metadata": {
    "collapsed": true
   },
   "outputs": [],
   "source": [
    "import os\n",
    "import pandas as pd"
   ]
  },
  {
   "cell_type": "code",
   "execution_count": null,
   "metadata": {
    "collapsed": true
   },
   "outputs": [],
   "source": [
    "os.chdir('C:\\\\DONNEES\\\\xplor\\\\travel')"
   ]
  },
  {
   "cell_type": "code",
   "execution_count": null,
   "metadata": {
    "collapsed": true
   },
   "outputs": [],
   "source": [
    "booking = pd.read_csv('bookings.csv.bz2', sep='^', header=0, usecols=[9,12,34], compression='bz2')"
   ]
  },
  {
   "cell_type": "code",
   "execution_count": null,
   "metadata": {
    "collapsed": false
   },
   "outputs": [],
   "source": [
    "searches = pd.read_csv('searches.csv.bz2', sep='^', header=0, usecols=[0,5,6,8], compression='bz2')"
   ]
  },
  {
   "cell_type": "code",
   "execution_count": null,
   "metadata": {
    "collapsed": false
   },
   "outputs": [],
   "source": [
    "searches['Date'] = pd.to_datetime(searches['Date'], errors='coerce')"
   ]
  },
  {
   "cell_type": "code",
   "execution_count": null,
   "metadata": {
    "collapsed": false
   },
   "outputs": [],
   "source": [
    "searches['monthSearch'] = searches['Date'].dt.month"
   ]
  },
  {
   "cell_type": "code",
   "execution_count": null,
   "metadata": {
    "collapsed": false
   },
   "outputs": [],
   "source": [
    "##### Number of lines #####"
   ]
  },
  {
   "cell_type": "code",
   "execution_count": null,
   "metadata": {
    "collapsed": false
   },
   "outputs": [],
   "source": [
    "lineCountBooking = len(booking)"
   ]
  },
  {
   "cell_type": "code",
   "execution_count": null,
   "metadata": {
    "collapsed": true
   },
   "outputs": [],
   "source": [
    "lineCountSearches = len(searches)"
   ]
  },
  {
   "cell_type": "code",
   "execution_count": null,
   "metadata": {
    "collapsed": false
   },
   "outputs": [],
   "source": [
    "print(\"There are : \"+str(lineCountBooking)+\" lines in file bookings \\n and \"+str(lineCountSearches)+\" lines in file searches\")"
   ]
  },
  {
   "cell_type": "code",
   "execution_count": null,
   "metadata": {
    "collapsed": false
   },
   "outputs": [],
   "source": [
    "booking['arr_port'] = booking['arr_port'].str.strip()"
   ]
  },
  {
   "cell_type": "code",
   "execution_count": null,
   "metadata": {
    "collapsed": false
   },
   "outputs": [],
   "source": [
    "##### top 10 arrival airports in the world in 2013 #####"
   ]
  },
  {
   "cell_type": "code",
   "execution_count": null,
   "metadata": {
    "collapsed": false
   },
   "outputs": [],
   "source": [
    "nbPaxbyAirport = pd.DataFrame(booking.pivot_table(index=['arr_port'], values='pax', aggfunc=sum, fill_value=0))"
   ]
  },
  {
   "cell_type": "code",
   "execution_count": null,
   "metadata": {
    "collapsed": true
   },
   "outputs": [],
   "source": [
    "top10Airports = pd.DataFrame((nbPaxbyAirport.sort_values(['pax'], axis=0, ascending=0)).head(10))"
   ]
  },
  {
   "cell_type": "code",
   "execution_count": null,
   "metadata": {
    "collapsed": true
   },
   "outputs": [],
   "source": [
    "top10Airports.to_csv('top10Airports.txt', sep='\\t')"
   ]
  },
  {
   "cell_type": "code",
   "execution_count": null,
   "metadata": {
    "collapsed": true
   },
   "outputs": [],
   "source": [
    "top10Airports = pd.read_csv('top10Airports.txt', sep='\\t', header=0)"
   ]
  },
  {
   "cell_type": "code",
   "execution_count": null,
   "metadata": {
    "collapsed": false
   },
   "outputs": [],
   "source": [
    "airports_geonames = pd.read_csv('airports_geonames_only_clean.csv', sep='^', header=None, names=['iata_code','airport_name','city_code','coutry_code','country','lat','long'])"
   ]
  },
  {
   "cell_type": "code",
   "execution_count": null,
   "metadata": {
    "collapsed": false
   },
   "outputs": [],
   "source": [
    "top10Airports = pd.merge(top10Airports, airports_geonames, how='left', left_on='arr_port', right_on='iata_code')"
   ]
  },
  {
   "cell_type": "code",
   "execution_count": null,
   "metadata": {
    "collapsed": false
   },
   "outputs": [],
   "source": [
    "airportRankNames = top10Airports.loc[: ,:\"airport_name\"]"
   ]
  },
  {
   "cell_type": "code",
   "execution_count": null,
   "metadata": {
    "collapsed": true
   },
   "outputs": [],
   "source": [
    "airportRankNames.drop('iata_code', axis=1, inplace=True)"
   ]
  },
  {
   "cell_type": "code",
   "execution_count": null,
   "metadata": {
    "collapsed": true
   },
   "outputs": [],
   "source": [
    "airports_geonames['country'] = airports_geonames['country'].str.strip().str.upper()\n",
    "airports_geonames['airport_name'] = airports_geonames['airport_name'].str.strip().str.upper()"
   ]
  },
  {
   "cell_type": "code",
   "execution_count": null,
   "metadata": {
    "collapsed": true
   },
   "outputs": [],
   "source": [
    "##### Searches to Spain #####"
   ]
  },
  {
   "cell_type": "code",
   "execution_count": null,
   "metadata": {
    "collapsed": false
   },
   "outputs": [],
   "source": [
    "spain = airports_geonames[airports_geonames['country']=='SPAIN']"
   ]
  },
  {
   "cell_type": "code",
   "execution_count": null,
   "metadata": {
    "collapsed": false
   },
   "outputs": [],
   "source": [
    "#Malaga AGP, Madrid MAD or Barcelona BCN\n",
    "search3Spain = searches.query('Destination == [\"AGP\",\"MAD\",\"BCN\"]')"
   ]
  },
  {
   "cell_type": "code",
   "execution_count": null,
   "metadata": {
    "collapsed": true
   },
   "outputs": [],
   "source": [
    "#search by month\n",
    "nbSearchSpain = pd.crosstab(search3Spain.monthSearch, search3Spain.Destination)"
   ]
  },
  {
   "cell_type": "code",
   "execution_count": null,
   "metadata": {
    "collapsed": false
   },
   "outputs": [],
   "source": [
    "## personnaly I prefer bargraph for the number of occurences\n",
    "#esPlot = nbSearchSpain.plot.bar()\n",
    "esPlot = nbSearchSpain.plot(title='Number of searches by month')\n",
    "esPlot.set_ylabel('Nb of searches')\n",
    "esPlot.set_xlabel('Month')\n",
    "esFig = esPlot.get_figure()\n",
    "esFig.savefig('searchSpainCurve')"
   ]
  },
  {
   "cell_type": "code",
   "execution_count": null,
   "metadata": {
    "collapsed": false
   },
   "outputs": [],
   "source": [
    "##### Matching search and booking #####\n",
    "##### to improve when having large file ... #####"
   ]
  },
  {
   "cell_type": "code",
   "execution_count": null,
   "metadata": {
    "collapsed": false
   },
   "outputs": [],
   "source": [
    "searches['s2bKey'] = searches['Origin'].str.strip()+'--'+searches['Destination'].str.strip()"
   ]
  },
  {
   "cell_type": "code",
   "execution_count": null,
   "metadata": {
    "collapsed": true
   },
   "outputs": [],
   "source": [
    "booking['s2bKey'] = booking['dep_port'].str.strip()+'--'+booking['arr_port'].str.strip()"
   ]
  },
  {
   "cell_type": "code",
   "execution_count": null,
   "metadata": {
    "collapsed": false
   },
   "outputs": [],
   "source": [
    "Search2Booking = pd.merge(searches, booking, how='left', on='s2bKey')"
   ]
  },
  {
   "cell_type": "code",
   "execution_count": null,
   "metadata": {
    "collapsed": true
   },
   "outputs": [],
   "source": [
    "Search2Booking['searchNbook'] =  pd.notnull(Search2Booking['dep_port'])*1"
   ]
  },
  {
   "cell_type": "code",
   "execution_count": null,
   "metadata": {
    "collapsed": false
   },
   "outputs": [],
   "source": [
    "Search2csv = Search2Booking.iloc[: , [0,1,2,3,9]]"
   ]
  },
  {
   "cell_type": "code",
   "execution_count": null,
   "metadata": {
    "collapsed": false
   },
   "outputs": [],
   "source": [
    "Search2csv.to_csv('searchesWithBookingFlag.csv', sep='\\t', index=0)"
   ]
  },
  {
   "cell_type": "code",
   "execution_count": null,
   "metadata": {
    "collapsed": true
   },
   "outputs": [],
   "source": [
    "##### JSON output without webservice #####"
   ]
  },
  {
   "cell_type": "code",
   "execution_count": null,
   "metadata": {
    "collapsed": true
   },
   "outputs": [],
   "source": [
    "def topNAirports(n):\n",
    "    if n > 0:\n",
    "        try :\n",
    "            rankAirports = pd.DataFrame((nbPaxbyAirport.sort_values(['pax'], axis=0, ascending=0)).head(n))\n",
    "        except :\n",
    "            raf = 'raf'\n",
    "            rankAirports = print('Expect integer value')\n",
    "    else:\n",
    "        rankAirports = print('Expect integer value > to 0')\n",
    "        \n",
    "    rankAirports.to_csv('rankAirports.txt', sep='\\t')\n",
    "    rankAirports = pd.read_csv('rankAirports.txt', sep='\\t', header=0)\n",
    "    os.remove('rankAirports.txt')\n",
    "    return rankAirports.to_json(orient='index')"
   ]
  },
  {
   "cell_type": "code",
   "execution_count": null,
   "metadata": {
    "collapsed": false
   },
   "outputs": [],
   "source": [
    "topNAirports(10)"
   ]
  }
 ],
 "metadata": {
  "kernelspec": {
   "display_name": "Python 3",
   "language": "python",
   "name": "python3"
  },
  "language_info": {
   "codemirror_mode": {
    "name": "ipython",
    "version": 3
   },
   "file_extension": ".py",
   "mimetype": "text/x-python",
   "name": "python",
   "nbconvert_exporter": "python",
   "pygments_lexer": "ipython3",
   "version": "3.5.1"
  }
 },
 "nbformat": 4,
 "nbformat_minor": 0
}
