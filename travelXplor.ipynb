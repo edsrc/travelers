{
 "cells": [
  {
   "cell_type": "code",
   "execution_count": 1,
   "metadata": {
    "collapsed": true
   },
   "outputs": [],
   "source": [
    "import os\n",
    "import pandas as pd"
   ]
  },
  {
   "cell_type": "code",
   "execution_count": 2,
   "metadata": {
    "collapsed": true
   },
   "outputs": [],
   "source": [
    "os.chdir('C:\\\\DONNEES\\\\xplor\\\\travel')"
   ]
  },
  {
   "cell_type": "code",
   "execution_count": 3,
   "metadata": {
    "collapsed": false
   },
   "outputs": [
    {
     "data": {
      "text/plain": [
       "'As reading the whole file with read_csv end up with memory issue I select colums to load'"
      ]
     },
     "execution_count": 3,
     "metadata": {},
     "output_type": "execute_result"
    }
   ],
   "source": [
    "'''As reading the whole file with read_csv end up with memory issue I select colums to load'''"
   ]
  },
  {
   "cell_type": "code",
   "execution_count": 4,
   "metadata": {
    "collapsed": true
   },
   "outputs": [],
   "source": [
    "booking = pd.read_csv('bookings.csv.bz2', sep='^', header=0, usecols=[9,12,34], compression='bz2')"
   ]
  },
  {
   "cell_type": "code",
   "execution_count": 5,
   "metadata": {
    "collapsed": false
   },
   "outputs": [],
   "source": [
    "searches = pd.read_csv('searches.csv.bz2', sep='^', header=0, usecols=[0,5,6,8], compression='bz2')"
   ]
  },
  {
   "cell_type": "code",
   "execution_count": 6,
   "metadata": {
    "collapsed": false
   },
   "outputs": [
    {
     "data": {
      "text/plain": [
       "'let have a look to data type before going for handling'"
      ]
     },
     "execution_count": 6,
     "metadata": {},
     "output_type": "execute_result"
    }
   ],
   "source": [
    "'''let have a look to data type before going for handling'''"
   ]
  },
  {
   "cell_type": "code",
   "execution_count": 7,
   "metadata": {
    "collapsed": false
   },
   "outputs": [
    {
     "data": {
      "text/plain": [
       "dep_port     object\n",
       "arr_port     object\n",
       "pax         float64\n",
       "dtype: object"
      ]
     },
     "execution_count": 7,
     "metadata": {},
     "output_type": "execute_result"
    }
   ],
   "source": [
    "booking.dtypes"
   ]
  },
  {
   "cell_type": "code",
   "execution_count": 8,
   "metadata": {
    "collapsed": false
   },
   "outputs": [
    {
     "data": {
      "text/plain": [
       "Date            object\n",
       "Origin          object\n",
       "Destination     object\n",
       "NbSegments     float64\n",
       "dtype: object"
      ]
     },
     "execution_count": 8,
     "metadata": {},
     "output_type": "execute_result"
    }
   ],
   "source": [
    "searches.dtypes"
   ]
  },
  {
   "cell_type": "code",
   "execution_count": 9,
   "metadata": {
    "collapsed": false
   },
   "outputs": [
    {
     "data": {
      "text/plain": [
       "'As Date in searches is not define as date type\\nI have to refine it to extract element such month, day, ... to answer question below'"
      ]
     },
     "execution_count": 9,
     "metadata": {},
     "output_type": "execute_result"
    }
   ],
   "source": [
    "'''As Date in searches is not define as date type\n",
    "I have to refine it to extract element such month, day, ... to answer question below'''"
   ]
  },
  {
   "cell_type": "code",
   "execution_count": 10,
   "metadata": {
    "collapsed": false
   },
   "outputs": [],
   "source": [
    "searches['Date'] = pd.to_datetime(searches['Date'], errors='coerce')"
   ]
  },
  {
   "cell_type": "code",
   "execution_count": 11,
   "metadata": {
    "collapsed": false
   },
   "outputs": [],
   "source": [
    "searches['monthSearch'] = searches['Date'].dt.month"
   ]
  },
  {
   "cell_type": "code",
   "execution_count": 12,
   "metadata": {
    "collapsed": false
   },
   "outputs": [
    {
     "data": {
      "text/plain": [
       "'I am using the len() function to count the lines in file\\ninstead of using shape that should be process to extract the column dimension'"
      ]
     },
     "execution_count": 12,
     "metadata": {},
     "output_type": "execute_result"
    }
   ],
   "source": [
    "##### Number of lines #####\n",
    "'''I am using the len() function to count the lines in file\n",
    "instead of using shape that should be process to extract the column dimension'''"
   ]
  },
  {
   "cell_type": "code",
   "execution_count": 13,
   "metadata": {
    "collapsed": false
   },
   "outputs": [],
   "source": [
    "lineCountBooking = len(booking)"
   ]
  },
  {
   "cell_type": "code",
   "execution_count": 14,
   "metadata": {
    "collapsed": true
   },
   "outputs": [],
   "source": [
    "lineCountSearches = len(searches)"
   ]
  },
  {
   "cell_type": "code",
   "execution_count": 15,
   "metadata": {
    "collapsed": false
   },
   "outputs": [
    {
     "name": "stdout",
     "output_type": "stream",
     "text": [
      "There are : 10000010 lines in file bookings \n",
      " and 20390198 lines in file searches\n"
     ]
    }
   ],
   "source": [
    "print(\"There are : \"+str(lineCountBooking)+\" lines in file bookings \\n and \"+str(lineCountSearches)+\" lines in file searches\")"
   ]
  },
  {
   "cell_type": "code",
   "execution_count": 16,
   "metadata": {
    "collapsed": true
   },
   "outputs": [],
   "source": [
    "##### top 10 arrival airports in the world in 2013 #####"
   ]
  },
  {
   "cell_type": "code",
   "execution_count": 17,
   "metadata": {
    "collapsed": false
   },
   "outputs": [
    {
     "data": {
      "text/plain": [
       "'Suppress the extra space to avoid mismacth when grouping'"
      ]
     },
     "execution_count": 17,
     "metadata": {},
     "output_type": "execute_result"
    }
   ],
   "source": [
    "'''Suppress the extra space to avoid mismacth when grouping'''"
   ]
  },
  {
   "cell_type": "code",
   "execution_count": 18,
   "metadata": {
    "collapsed": false
   },
   "outputs": [],
   "source": [
    "booking['arr_port'] = booking['arr_port'].str.strip()"
   ]
  },
  {
   "cell_type": "code",
   "execution_count": 19,
   "metadata": {
    "collapsed": false
   },
   "outputs": [
    {
     "data": {
      "text/plain": [
       "'pivot_table do the job for grouping and sum to take cancellation in account\\nI selecting the 10 top by using head\\nAs data are not well formatted I am using downlaod and upload data to have them look proper'"
      ]
     },
     "execution_count": 19,
     "metadata": {},
     "output_type": "execute_result"
    }
   ],
   "source": [
    "'''pivot_table do the job for grouping and sum to take cancellation in account\n",
    "I selecting the 10 top by using head\n",
    "As data are not well formatted I am using downlaod and upload data to have them look proper'''"
   ]
  },
  {
   "cell_type": "code",
   "execution_count": 20,
   "metadata": {
    "collapsed": false
   },
   "outputs": [],
   "source": [
    "nbPaxbyAirport = pd.DataFrame(booking.pivot_table(index=['arr_port'], values='pax', aggfunc=sum, fill_value=0))"
   ]
  },
  {
   "cell_type": "code",
   "execution_count": 21,
   "metadata": {
    "collapsed": true
   },
   "outputs": [],
   "source": [
    "top10Airports = pd.DataFrame((nbPaxbyAirport.sort_values(['pax'], axis=0, ascending=0)).head(10))"
   ]
  },
  {
   "cell_type": "code",
   "execution_count": 22,
   "metadata": {
    "collapsed": true
   },
   "outputs": [],
   "source": [
    "top10Airports.to_csv('top10Airports.txt', sep='\\t')"
   ]
  },
  {
   "cell_type": "code",
   "execution_count": 23,
   "metadata": {
    "collapsed": true
   },
   "outputs": [],
   "source": [
    "top10Airports = pd.read_csv('top10Airports.txt', sep='\\t', header=0)"
   ]
  },
  {
   "cell_type": "code",
   "execution_count": 24,
   "metadata": {
    "collapsed": false
   },
   "outputs": [
    {
     "data": {
      "text/plain": [
       "'Here I am using the Geobases airport file ... :-( manually '"
      ]
     },
     "execution_count": 24,
     "metadata": {},
     "output_type": "execute_result"
    }
   ],
   "source": [
    "'''Here I am using the Geobases airport file ... :-( manually '''"
   ]
  },
  {
   "cell_type": "code",
   "execution_count": 25,
   "metadata": {
    "collapsed": false
   },
   "outputs": [],
   "source": [
    "airports_geonames = pd.read_csv('airports_geonames_only_clean.csv', sep='^', header=None, names=['iata_code','airport_name','city_code','coutry_code','country','lat','long'])"
   ]
  },
  {
   "cell_type": "code",
   "execution_count": 26,
   "metadata": {
    "collapsed": false
   },
   "outputs": [],
   "source": [
    "top10Airports = pd.merge(top10Airports, airports_geonames, how='left', left_on='arr_port', right_on='iata_code')"
   ]
  },
  {
   "cell_type": "code",
   "execution_count": 27,
   "metadata": {
    "collapsed": false
   },
   "outputs": [
    {
     "data": {
      "text/plain": [
       "'I just suppress the extra column'"
      ]
     },
     "execution_count": 27,
     "metadata": {},
     "output_type": "execute_result"
    }
   ],
   "source": [
    "'''I just suppress the extra column'''"
   ]
  },
  {
   "cell_type": "code",
   "execution_count": 28,
   "metadata": {
    "collapsed": false
   },
   "outputs": [],
   "source": [
    "airportRankNames = top10Airports.loc[: ,:\"airport_name\"]"
   ]
  },
  {
   "cell_type": "code",
   "execution_count": 29,
   "metadata": {
    "collapsed": true
   },
   "outputs": [],
   "source": [
    "airportRankNames.drop('iata_code', axis=1, inplace=True)"
   ]
  },
  {
   "cell_type": "code",
   "execution_count": 30,
   "metadata": {
    "collapsed": false
   },
   "outputs": [
    {
     "data": {
      "text/html": [
       "<div>\n",
       "<table border=\"1\" class=\"dataframe\">\n",
       "  <thead>\n",
       "    <tr style=\"text-align: right;\">\n",
       "      <th></th>\n",
       "      <th>arr_port</th>\n",
       "      <th>pax</th>\n",
       "      <th>airport_name</th>\n",
       "    </tr>\n",
       "  </thead>\n",
       "  <tbody>\n",
       "    <tr>\n",
       "      <th>0</th>\n",
       "      <td>LHR</td>\n",
       "      <td>88809</td>\n",
       "      <td>London Heathrow Airport</td>\n",
       "    </tr>\n",
       "    <tr>\n",
       "      <th>1</th>\n",
       "      <td>MCO</td>\n",
       "      <td>70930</td>\n",
       "      <td>Orlando International Airport</td>\n",
       "    </tr>\n",
       "    <tr>\n",
       "      <th>2</th>\n",
       "      <td>LAX</td>\n",
       "      <td>70530</td>\n",
       "      <td>Los Angeles International Airport</td>\n",
       "    </tr>\n",
       "    <tr>\n",
       "      <th>3</th>\n",
       "      <td>LAS</td>\n",
       "      <td>69630</td>\n",
       "      <td>McCarran International Airport</td>\n",
       "    </tr>\n",
       "    <tr>\n",
       "      <th>4</th>\n",
       "      <td>JFK</td>\n",
       "      <td>66270</td>\n",
       "      <td>John F Kennedy International Airport</td>\n",
       "    </tr>\n",
       "    <tr>\n",
       "      <th>5</th>\n",
       "      <td>CDG</td>\n",
       "      <td>64490</td>\n",
       "      <td>Paris - Charles-de-Gaulle</td>\n",
       "    </tr>\n",
       "    <tr>\n",
       "      <th>6</th>\n",
       "      <td>BKK</td>\n",
       "      <td>59460</td>\n",
       "      <td>Suvarnabhumi</td>\n",
       "    </tr>\n",
       "    <tr>\n",
       "      <th>7</th>\n",
       "      <td>MIA</td>\n",
       "      <td>58150</td>\n",
       "      <td>Miami International Airport</td>\n",
       "    </tr>\n",
       "    <tr>\n",
       "      <th>8</th>\n",
       "      <td>SFO</td>\n",
       "      <td>58000</td>\n",
       "      <td>San Francisco International Airport</td>\n",
       "    </tr>\n",
       "    <tr>\n",
       "      <th>9</th>\n",
       "      <td>DXB</td>\n",
       "      <td>55590</td>\n",
       "      <td>Dubai International Airport</td>\n",
       "    </tr>\n",
       "  </tbody>\n",
       "</table>\n",
       "</div>"
      ],
      "text/plain": [
       "  arr_port    pax                          airport_name\n",
       "0      LHR  88809               London Heathrow Airport\n",
       "1      MCO  70930         Orlando International Airport\n",
       "2      LAX  70530     Los Angeles International Airport\n",
       "3      LAS  69630        McCarran International Airport\n",
       "4      JFK  66270  John F Kennedy International Airport\n",
       "5      CDG  64490             Paris - Charles-de-Gaulle\n",
       "6      BKK  59460                          Suvarnabhumi\n",
       "7      MIA  58150           Miami International Airport\n",
       "8      SFO  58000   San Francisco International Airport\n",
       "9      DXB  55590           Dubai International Airport"
      ]
     },
     "execution_count": 30,
     "metadata": {},
     "output_type": "execute_result"
    }
   ],
   "source": [
    "airportRankNames"
   ]
  },
  {
   "cell_type": "code",
   "execution_count": 31,
   "metadata": {
    "collapsed": true
   },
   "outputs": [],
   "source": [
    "airports_geonames['country'] = airports_geonames['country'].str.strip().str.upper()\n",
    "airports_geonames['airport_name'] = airports_geonames['airport_name'].str.strip().str.upper()"
   ]
  },
  {
   "cell_type": "code",
   "execution_count": 32,
   "metadata": {
    "collapsed": true
   },
   "outputs": [],
   "source": [
    "##### Searches to 3 Spain destintations #####"
   ]
  },
  {
   "cell_type": "code",
   "execution_count": 33,
   "metadata": {
    "collapsed": false
   },
   "outputs": [
    {
     "data": {
      "text/plain": [
       "'Fisrt I keep only Spain airport to and search corresponding codes'"
      ]
     },
     "execution_count": 33,
     "metadata": {},
     "output_type": "execute_result"
    }
   ],
   "source": [
    "'''Fisrt I keep only Spain airport to and search corresponding codes'''"
   ]
  },
  {
   "cell_type": "code",
   "execution_count": 34,
   "metadata": {
    "collapsed": false
   },
   "outputs": [],
   "source": [
    "spain = airports_geonames[airports_geonames['country']=='SPAIN']"
   ]
  },
  {
   "cell_type": "code",
   "execution_count": 35,
   "metadata": {
    "collapsed": false
   },
   "outputs": [
    {
     "data": {
      "text/html": [
       "<div>\n",
       "<table border=\"1\" class=\"dataframe\">\n",
       "  <thead>\n",
       "    <tr style=\"text-align: right;\">\n",
       "      <th></th>\n",
       "      <th>iata_code</th>\n",
       "      <th>airport_name</th>\n",
       "      <th>city_code</th>\n",
       "      <th>coutry_code</th>\n",
       "      <th>country</th>\n",
       "      <th>lat</th>\n",
       "      <th>long</th>\n",
       "    </tr>\n",
       "  </thead>\n",
       "  <tbody>\n",
       "    <tr>\n",
       "      <th>697</th>\n",
       "      <td>BCN</td>\n",
       "      <td>AEROPORT DE BARCELONA - EL PRAT</td>\n",
       "      <td>BCN</td>\n",
       "      <td>ES</td>\n",
       "      <td>SPAIN</td>\n",
       "      <td>41.297078</td>\n",
       "      <td>2.078464</td>\n",
       "    </tr>\n",
       "    <tr>\n",
       "      <th>698</th>\n",
       "      <td>ALC</td>\n",
       "      <td>AEROPUERTO INTERNACIONAL DE ALICANTE - EL ALTET</td>\n",
       "      <td>ALC</td>\n",
       "      <td>ES</td>\n",
       "      <td>SPAIN</td>\n",
       "      <td>38.282169</td>\n",
       "      <td>-0.558156</td>\n",
       "    </tr>\n",
       "    <tr>\n",
       "      <th>699</th>\n",
       "      <td>FUE</td>\n",
       "      <td>FUERTEVENTURA / AEROPUERTO</td>\n",
       "      <td>FUE</td>\n",
       "      <td>ES</td>\n",
       "      <td>SPAIN</td>\n",
       "      <td>28.452717</td>\n",
       "      <td>-13.863761</td>\n",
       "    </tr>\n",
       "    <tr>\n",
       "      <th>700</th>\n",
       "      <td>VDE</td>\n",
       "      <td>HIERRO / AEROPUERTO</td>\n",
       "      <td>VDE</td>\n",
       "      <td>ES</td>\n",
       "      <td>SPAIN</td>\n",
       "      <td>27.814847</td>\n",
       "      <td>-17.887056</td>\n",
       "    </tr>\n",
       "    <tr>\n",
       "      <th>701</th>\n",
       "      <td>SPC</td>\n",
       "      <td>LA PALMA / AEROPUERTO</td>\n",
       "      <td>SPC</td>\n",
       "      <td>ES</td>\n",
       "      <td>SPAIN</td>\n",
       "      <td>28.626478</td>\n",
       "      <td>-17.755611</td>\n",
       "    </tr>\n",
       "    <tr>\n",
       "      <th>702</th>\n",
       "      <td>LPA</td>\n",
       "      <td>GRAN CANARIA - CANARY ISLANDS</td>\n",
       "      <td>LPA</td>\n",
       "      <td>ES</td>\n",
       "      <td>SPAIN</td>\n",
       "      <td>27.931886</td>\n",
       "      <td>-15.386586</td>\n",
       "    </tr>\n",
       "    <tr>\n",
       "      <th>703</th>\n",
       "      <td>ACE</td>\n",
       "      <td>LANZAROTE / AEROPUERTO</td>\n",
       "      <td>ACE</td>\n",
       "      <td>ES</td>\n",
       "      <td>SPAIN</td>\n",
       "      <td>28.945464</td>\n",
       "      <td>-13.605225</td>\n",
       "    </tr>\n",
       "    <tr>\n",
       "      <th>704</th>\n",
       "      <td>TFS</td>\n",
       "      <td>TENERIFE SUR</td>\n",
       "      <td>TCI</td>\n",
       "      <td>ES</td>\n",
       "      <td>SPAIN</td>\n",
       "      <td>28.044475</td>\n",
       "      <td>-16.572489</td>\n",
       "    </tr>\n",
       "    <tr>\n",
       "      <th>705</th>\n",
       "      <td>TFN</td>\n",
       "      <td>TENERIFE / LOS RODEOS</td>\n",
       "      <td>TCI</td>\n",
       "      <td>ES</td>\n",
       "      <td>SPAIN</td>\n",
       "      <td>28.482653</td>\n",
       "      <td>-16.341536</td>\n",
       "    </tr>\n",
       "    <tr>\n",
       "      <th>706</th>\n",
       "      <td>MLN</td>\n",
       "      <td>MELILLA</td>\n",
       "      <td>MLN</td>\n",
       "      <td>ES</td>\n",
       "      <td>SPAIN</td>\n",
       "      <td>35.279817</td>\n",
       "      <td>-2.956256</td>\n",
       "    </tr>\n",
       "    <tr>\n",
       "      <th>707</th>\n",
       "      <td>LEI</td>\n",
       "      <td>ALMERIA / AEROPUERTO</td>\n",
       "      <td>LEI</td>\n",
       "      <td>ES</td>\n",
       "      <td>SPAIN</td>\n",
       "      <td>36.843936</td>\n",
       "      <td>-2.370097</td>\n",
       "    </tr>\n",
       "    <tr>\n",
       "      <th>708</th>\n",
       "      <td>OVD</td>\n",
       "      <td>ASTURIAS / AVILES</td>\n",
       "      <td>OVD</td>\n",
       "      <td>ES</td>\n",
       "      <td>SPAIN</td>\n",
       "      <td>43.563567</td>\n",
       "      <td>-6.034622</td>\n",
       "    </tr>\n",
       "    <tr>\n",
       "      <th>709</th>\n",
       "      <td>ODB</td>\n",
       "      <td>CORDOBA / AEROPUERTO</td>\n",
       "      <td>ODB</td>\n",
       "      <td>ES</td>\n",
       "      <td>SPAIN</td>\n",
       "      <td>37.842006</td>\n",
       "      <td>-4.848878</td>\n",
       "    </tr>\n",
       "    <tr>\n",
       "      <th>710</th>\n",
       "      <td>BIO</td>\n",
       "      <td>BILBAO / SONDICA</td>\n",
       "      <td>BIO</td>\n",
       "      <td>ES</td>\n",
       "      <td>SPAIN</td>\n",
       "      <td>43.301097</td>\n",
       "      <td>-2.910608</td>\n",
       "    </tr>\n",
       "    <tr>\n",
       "      <th>711</th>\n",
       "      <td>RGS</td>\n",
       "      <td>BURGOS / VILLAFRIA</td>\n",
       "      <td>NaN</td>\n",
       "      <td>ES</td>\n",
       "      <td>SPAIN</td>\n",
       "      <td>42.357628</td>\n",
       "      <td>-3.620764</td>\n",
       "    </tr>\n",
       "    <tr>\n",
       "      <th>712</th>\n",
       "      <td>BJZ</td>\n",
       "      <td>BADAJOZ / TALAVERA LA REAL</td>\n",
       "      <td>BJZ</td>\n",
       "      <td>ES</td>\n",
       "      <td>SPAIN</td>\n",
       "      <td>38.891250</td>\n",
       "      <td>-6.821333</td>\n",
       "    </tr>\n",
       "    <tr>\n",
       "      <th>713</th>\n",
       "      <td>LCG</td>\n",
       "      <td>A CORUNA / ALVEDRO</td>\n",
       "      <td>LCG</td>\n",
       "      <td>ES</td>\n",
       "      <td>SPAIN</td>\n",
       "      <td>43.302061</td>\n",
       "      <td>-8.377256</td>\n",
       "    </tr>\n",
       "    <tr>\n",
       "      <th>714</th>\n",
       "      <td>GRO</td>\n",
       "      <td>AEROPORT DE GIRONA - COSTA BRAVA</td>\n",
       "      <td>GRO</td>\n",
       "      <td>ES</td>\n",
       "      <td>SPAIN</td>\n",
       "      <td>41.900969</td>\n",
       "      <td>2.760547</td>\n",
       "    </tr>\n",
       "    <tr>\n",
       "      <th>715</th>\n",
       "      <td>GRX</td>\n",
       "      <td>GRANADA / AEROPUERTO</td>\n",
       "      <td>GRX</td>\n",
       "      <td>ES</td>\n",
       "      <td>SPAIN</td>\n",
       "      <td>37.188731</td>\n",
       "      <td>-3.777356</td>\n",
       "    </tr>\n",
       "    <tr>\n",
       "      <th>716</th>\n",
       "      <td>IBZ</td>\n",
       "      <td>IBIZA / ES CODOLA</td>\n",
       "      <td>IBZ</td>\n",
       "      <td>ES</td>\n",
       "      <td>SPAIN</td>\n",
       "      <td>38.872858</td>\n",
       "      <td>1.373117</td>\n",
       "    </tr>\n",
       "    <tr>\n",
       "      <th>717</th>\n",
       "      <td>XRY</td>\n",
       "      <td>JEREZ DE LA FRONTERAAEROPUERTO</td>\n",
       "      <td>XRY</td>\n",
       "      <td>ES</td>\n",
       "      <td>SPAIN</td>\n",
       "      <td>36.744622</td>\n",
       "      <td>-6.060111</td>\n",
       "    </tr>\n",
       "    <tr>\n",
       "      <th>718</th>\n",
       "      <td>MJV</td>\n",
       "      <td>MURCIA / SAN JAVIER</td>\n",
       "      <td>MJV</td>\n",
       "      <td>ES</td>\n",
       "      <td>SPAIN</td>\n",
       "      <td>37.774972</td>\n",
       "      <td>-0.812389</td>\n",
       "    </tr>\n",
       "    <tr>\n",
       "      <th>719</th>\n",
       "      <td>LEN</td>\n",
       "      <td>LEON / VIRGEN DEL CAMINO</td>\n",
       "      <td>LEN</td>\n",
       "      <td>ES</td>\n",
       "      <td>SPAIN</td>\n",
       "      <td>42.589000</td>\n",
       "      <td>-5.655556</td>\n",
       "    </tr>\n",
       "    <tr>\n",
       "      <th>720</th>\n",
       "      <td>MAD</td>\n",
       "      <td>MADRID / BARAJAS</td>\n",
       "      <td>MAD</td>\n",
       "      <td>ES</td>\n",
       "      <td>SPAIN</td>\n",
       "      <td>40.468421</td>\n",
       "      <td>-3.567692</td>\n",
       "    </tr>\n",
       "    <tr>\n",
       "      <th>721</th>\n",
       "      <td>AGP</td>\n",
       "      <td>MALAGA / AEROPUERTO</td>\n",
       "      <td>AGP</td>\n",
       "      <td>ES</td>\n",
       "      <td>SPAIN</td>\n",
       "      <td>36.674900</td>\n",
       "      <td>-4.499106</td>\n",
       "    </tr>\n",
       "    <tr>\n",
       "      <th>722</th>\n",
       "      <td>MAH</td>\n",
       "      <td>AEROPORT DE MENORCA - MAO</td>\n",
       "      <td>MAH</td>\n",
       "      <td>ES</td>\n",
       "      <td>SPAIN</td>\n",
       "      <td>39.862597</td>\n",
       "      <td>4.218647</td>\n",
       "    </tr>\n",
       "    <tr>\n",
       "      <th>723</th>\n",
       "      <td>PMI</td>\n",
       "      <td>PALMA DE MALLORCA / SON SAN JUAN</td>\n",
       "      <td>PMI</td>\n",
       "      <td>ES</td>\n",
       "      <td>SPAIN</td>\n",
       "      <td>39.550000</td>\n",
       "      <td>2.733333</td>\n",
       "    </tr>\n",
       "    <tr>\n",
       "      <th>724</th>\n",
       "      <td>REU</td>\n",
       "      <td>AEROPORT DE REUS</td>\n",
       "      <td>REU</td>\n",
       "      <td>ES</td>\n",
       "      <td>SPAIN</td>\n",
       "      <td>41.147392</td>\n",
       "      <td>1.167172</td>\n",
       "    </tr>\n",
       "    <tr>\n",
       "      <th>725</th>\n",
       "      <td>EAS</td>\n",
       "      <td>SAN SEBASTIAN / FUENTERRABIA</td>\n",
       "      <td>EAS</td>\n",
       "      <td>ES</td>\n",
       "      <td>SPAIN</td>\n",
       "      <td>43.356519</td>\n",
       "      <td>-1.790611</td>\n",
       "    </tr>\n",
       "    <tr>\n",
       "      <th>726</th>\n",
       "      <td>SCQ</td>\n",
       "      <td>SANTIAGO / LABACOLLA</td>\n",
       "      <td>SCQ</td>\n",
       "      <td>ES</td>\n",
       "      <td>SPAIN</td>\n",
       "      <td>42.897661</td>\n",
       "      <td>-8.417931</td>\n",
       "    </tr>\n",
       "    <tr>\n",
       "      <th>727</th>\n",
       "      <td>VLC</td>\n",
       "      <td>VALENCIA / AEROPUERTO</td>\n",
       "      <td>VLC</td>\n",
       "      <td>ES</td>\n",
       "      <td>SPAIN</td>\n",
       "      <td>39.489314</td>\n",
       "      <td>-0.481625</td>\n",
       "    </tr>\n",
       "    <tr>\n",
       "      <th>728</th>\n",
       "      <td>VLL</td>\n",
       "      <td>VALLADOLID / VILLANUBLA</td>\n",
       "      <td>VLL</td>\n",
       "      <td>ES</td>\n",
       "      <td>SPAIN</td>\n",
       "      <td>41.706111</td>\n",
       "      <td>-4.851944</td>\n",
       "    </tr>\n",
       "    <tr>\n",
       "      <th>729</th>\n",
       "      <td>VGO</td>\n",
       "      <td>VIGO / PEINADOR</td>\n",
       "      <td>VGO</td>\n",
       "      <td>ES</td>\n",
       "      <td>SPAIN</td>\n",
       "      <td>42.231800</td>\n",
       "      <td>-8.626775</td>\n",
       "    </tr>\n",
       "    <tr>\n",
       "      <th>730</th>\n",
       "      <td>SDR</td>\n",
       "      <td>SANTANDER / PARAYAS</td>\n",
       "      <td>SDR</td>\n",
       "      <td>ES</td>\n",
       "      <td>SPAIN</td>\n",
       "      <td>43.427064</td>\n",
       "      <td>-3.820006</td>\n",
       "    </tr>\n",
       "    <tr>\n",
       "      <th>731</th>\n",
       "      <td>SVQ</td>\n",
       "      <td>SEVILLA / SAN PABLO</td>\n",
       "      <td>SVQ</td>\n",
       "      <td>ES</td>\n",
       "      <td>SPAIN</td>\n",
       "      <td>37.418000</td>\n",
       "      <td>-5.893106</td>\n",
       "    </tr>\n",
       "    <tr>\n",
       "      <th>732</th>\n",
       "      <td>CQM</td>\n",
       "      <td>AEROPUERTO CENTRAL CIUDAD REAL</td>\n",
       "      <td>NaN</td>\n",
       "      <td>ES</td>\n",
       "      <td>SPAIN</td>\n",
       "      <td>38.858558</td>\n",
       "      <td>-3.976021</td>\n",
       "    </tr>\n",
       "    <tr>\n",
       "      <th>733</th>\n",
       "      <td>GMZ</td>\n",
       "      <td>LA GOMERA</td>\n",
       "      <td>GMZ</td>\n",
       "      <td>ES</td>\n",
       "      <td>SPAIN</td>\n",
       "      <td>28.029865</td>\n",
       "      <td>-17.214546</td>\n",
       "    </tr>\n",
       "    <tr>\n",
       "      <th>734</th>\n",
       "      <td>HSK</td>\n",
       "      <td>HUESCA-PIRINEOS / AIRPORT</td>\n",
       "      <td>HSK</td>\n",
       "      <td>ES</td>\n",
       "      <td>SPAIN</td>\n",
       "      <td>42.080927</td>\n",
       "      <td>-0.323469</td>\n",
       "    </tr>\n",
       "  </tbody>\n",
       "</table>\n",
       "</div>"
      ],
      "text/plain": [
       "    iata_code                                     airport_name city_code  \\\n",
       "697       BCN                  AEROPORT DE BARCELONA - EL PRAT       BCN   \n",
       "698       ALC  AEROPUERTO INTERNACIONAL DE ALICANTE - EL ALTET       ALC   \n",
       "699       FUE                       FUERTEVENTURA / AEROPUERTO       FUE   \n",
       "700       VDE                              HIERRO / AEROPUERTO       VDE   \n",
       "701       SPC                            LA PALMA / AEROPUERTO       SPC   \n",
       "702       LPA                    GRAN CANARIA - CANARY ISLANDS       LPA   \n",
       "703       ACE                           LANZAROTE / AEROPUERTO       ACE   \n",
       "704       TFS                                     TENERIFE SUR       TCI   \n",
       "705       TFN                            TENERIFE / LOS RODEOS       TCI   \n",
       "706       MLN                                          MELILLA       MLN   \n",
       "707       LEI                             ALMERIA / AEROPUERTO       LEI   \n",
       "708       OVD                                ASTURIAS / AVILES       OVD   \n",
       "709       ODB                             CORDOBA / AEROPUERTO       ODB   \n",
       "710       BIO                                 BILBAO / SONDICA       BIO   \n",
       "711       RGS                               BURGOS / VILLAFRIA       NaN   \n",
       "712       BJZ                       BADAJOZ / TALAVERA LA REAL       BJZ   \n",
       "713       LCG                               A CORUNA / ALVEDRO       LCG   \n",
       "714       GRO                 AEROPORT DE GIRONA - COSTA BRAVA       GRO   \n",
       "715       GRX                             GRANADA / AEROPUERTO       GRX   \n",
       "716       IBZ                                IBIZA / ES CODOLA       IBZ   \n",
       "717       XRY                   JEREZ DE LA FRONTERAAEROPUERTO       XRY   \n",
       "718       MJV                              MURCIA / SAN JAVIER       MJV   \n",
       "719       LEN                         LEON / VIRGEN DEL CAMINO       LEN   \n",
       "720       MAD                                 MADRID / BARAJAS       MAD   \n",
       "721       AGP                              MALAGA / AEROPUERTO       AGP   \n",
       "722       MAH                        AEROPORT DE MENORCA - MAO       MAH   \n",
       "723       PMI                 PALMA DE MALLORCA / SON SAN JUAN       PMI   \n",
       "724       REU                                 AEROPORT DE REUS       REU   \n",
       "725       EAS                     SAN SEBASTIAN / FUENTERRABIA       EAS   \n",
       "726       SCQ                             SANTIAGO / LABACOLLA       SCQ   \n",
       "727       VLC                            VALENCIA / AEROPUERTO       VLC   \n",
       "728       VLL                          VALLADOLID / VILLANUBLA       VLL   \n",
       "729       VGO                                  VIGO / PEINADOR       VGO   \n",
       "730       SDR                              SANTANDER / PARAYAS       SDR   \n",
       "731       SVQ                              SEVILLA / SAN PABLO       SVQ   \n",
       "732       CQM                   AEROPUERTO CENTRAL CIUDAD REAL       NaN   \n",
       "733       GMZ                                        LA GOMERA       GMZ   \n",
       "734       HSK                        HUESCA-PIRINEOS / AIRPORT       HSK   \n",
       "\n",
       "    coutry_code country        lat       long  \n",
       "697          ES   SPAIN  41.297078   2.078464  \n",
       "698          ES   SPAIN  38.282169  -0.558156  \n",
       "699          ES   SPAIN  28.452717 -13.863761  \n",
       "700          ES   SPAIN  27.814847 -17.887056  \n",
       "701          ES   SPAIN  28.626478 -17.755611  \n",
       "702          ES   SPAIN  27.931886 -15.386586  \n",
       "703          ES   SPAIN  28.945464 -13.605225  \n",
       "704          ES   SPAIN  28.044475 -16.572489  \n",
       "705          ES   SPAIN  28.482653 -16.341536  \n",
       "706          ES   SPAIN  35.279817  -2.956256  \n",
       "707          ES   SPAIN  36.843936  -2.370097  \n",
       "708          ES   SPAIN  43.563567  -6.034622  \n",
       "709          ES   SPAIN  37.842006  -4.848878  \n",
       "710          ES   SPAIN  43.301097  -2.910608  \n",
       "711          ES   SPAIN  42.357628  -3.620764  \n",
       "712          ES   SPAIN  38.891250  -6.821333  \n",
       "713          ES   SPAIN  43.302061  -8.377256  \n",
       "714          ES   SPAIN  41.900969   2.760547  \n",
       "715          ES   SPAIN  37.188731  -3.777356  \n",
       "716          ES   SPAIN  38.872858   1.373117  \n",
       "717          ES   SPAIN  36.744622  -6.060111  \n",
       "718          ES   SPAIN  37.774972  -0.812389  \n",
       "719          ES   SPAIN  42.589000  -5.655556  \n",
       "720          ES   SPAIN  40.468421  -3.567692  \n",
       "721          ES   SPAIN  36.674900  -4.499106  \n",
       "722          ES   SPAIN  39.862597   4.218647  \n",
       "723          ES   SPAIN  39.550000   2.733333  \n",
       "724          ES   SPAIN  41.147392   1.167172  \n",
       "725          ES   SPAIN  43.356519  -1.790611  \n",
       "726          ES   SPAIN  42.897661  -8.417931  \n",
       "727          ES   SPAIN  39.489314  -0.481625  \n",
       "728          ES   SPAIN  41.706111  -4.851944  \n",
       "729          ES   SPAIN  42.231800  -8.626775  \n",
       "730          ES   SPAIN  43.427064  -3.820006  \n",
       "731          ES   SPAIN  37.418000  -5.893106  \n",
       "732          ES   SPAIN  38.858558  -3.976021  \n",
       "733          ES   SPAIN  28.029865 -17.214546  \n",
       "734          ES   SPAIN  42.080927  -0.323469  "
      ]
     },
     "execution_count": 35,
     "metadata": {},
     "output_type": "execute_result"
    }
   ],
   "source": [
    "spain"
   ]
  },
  {
   "cell_type": "code",
   "execution_count": 36,
   "metadata": {
    "collapsed": false
   },
   "outputs": [],
   "source": [
    "#Malaga AGP, Madrid MAD or Barcelona BCN\n",
    "search3Spain = searches.query('Destination == [\"AGP\",\"MAD\",\"BCN\"]')"
   ]
  },
  {
   "cell_type": "code",
   "execution_count": 37,
   "metadata": {
    "collapsed": true
   },
   "outputs": [],
   "source": [
    "#search by month\n",
    "nbSearchSpain = pd.crosstab(search3Spain.monthSearch, search3Spain.Destination)"
   ]
  },
  {
   "cell_type": "code",
   "execution_count": 38,
   "metadata": {
    "collapsed": false
   },
   "outputs": [
    {
     "data": {
      "text/plain": [
       "'To plot the number of search I used the calculation done before and plot the result that it saved in a png file'"
      ]
     },
     "execution_count": 38,
     "metadata": {},
     "output_type": "execute_result"
    }
   ],
   "source": [
    "'''To plot the number of search I used the calculation done before and plot the result that it saved in a png file'''"
   ]
  },
  {
   "cell_type": "code",
   "execution_count": 39,
   "metadata": {
    "collapsed": false
   },
   "outputs": [],
   "source": [
    "## personnaly I prefer bar graph for the number of occurences\n",
    "#esPlot = nbSearchSpain.plot.bar()\n",
    "esPlot = nbSearchSpain.plot(title='Number of searches by month')\n",
    "esPlot.set_ylabel('Nb of searches')\n",
    "esPlot.set_xlabel('Month')\n",
    "esFig = esPlot.get_figure()\n",
    "esFig.savefig('searchSpainCurve')"
   ]
  },
  {
   "cell_type": "code",
   "execution_count": 40,
   "metadata": {
    "collapsed": false
   },
   "outputs": [],
   "source": [
    "##### Matching search and booking #####\n",
    "##### to improve when having large file ... #####"
   ]
  },
  {
   "cell_type": "code",
   "execution_count": 41,
   "metadata": {
    "collapsed": false
   },
   "outputs": [
    {
     "data": {
      "text/plain": [
       "'to avoid mismatch once again I delete extra space\\nI make up a key to join files, the key have to be better\\nbut for the exercise I using oriing and destination'"
      ]
     },
     "execution_count": 41,
     "metadata": {},
     "output_type": "execute_result"
    }
   ],
   "source": [
    "'''to avoid mismatch once again I delete extra space\n",
    "I make up a key to join files, the key have to be better\n",
    "but for the exercise I using oriing and destination'''"
   ]
  },
  {
   "cell_type": "code",
   "execution_count": 42,
   "metadata": {
    "collapsed": true
   },
   "outputs": [],
   "source": [
    "searches['Origin'] = searches['Origin'].str.strip()"
   ]
  },
  {
   "cell_type": "code",
   "execution_count": 43,
   "metadata": {
    "collapsed": true
   },
   "outputs": [],
   "source": [
    "searches['Destination'] = searches['Destination'].str.strip()"
   ]
  },
  {
   "cell_type": "code",
   "execution_count": 44,
   "metadata": {
    "collapsed": true
   },
   "outputs": [],
   "source": [
    "booking['dep_port'] = booking['dep_port'].str.strip()"
   ]
  },
  {
   "cell_type": "code",
   "execution_count": 45,
   "metadata": {
    "collapsed": true
   },
   "outputs": [],
   "source": [
    "booking['arr_port'] = booking['arr_port'].str.strip()"
   ]
  },
  {
   "cell_type": "code",
   "execution_count": 46,
   "metadata": {
    "collapsed": false
   },
   "outputs": [
    {
     "data": {
      "text/plain": [
       "'Here I create the matching key that should be better after discussion with people who knwos the file, and information to take'"
      ]
     },
     "execution_count": 46,
     "metadata": {},
     "output_type": "execute_result"
    }
   ],
   "source": [
    "'''Here I create the matching key that should be better after discussion with people who knwos the file, and information to take'''"
   ]
  },
  {
   "cell_type": "code",
   "execution_count": 47,
   "metadata": {
    "collapsed": false
   },
   "outputs": [],
   "source": [
    "searches['s2bKey'] = searches['Origin']+'--'+searches['Destination']"
   ]
  },
  {
   "cell_type": "code",
   "execution_count": 48,
   "metadata": {
    "collapsed": true
   },
   "outputs": [],
   "source": [
    "booking['s2bKey'] = booking['dep_port']+'--'+booking['arr_port']"
   ]
  },
  {
   "cell_type": "code",
   "execution_count": 49,
   "metadata": {
    "collapsed": false
   },
   "outputs": [
    {
     "data": {
      "text/plain": [
       "' As this is coming out with a memory error I just reduce the booking lines for the next question\\nI found pyspark interesting but I never used it and I came accross some difficulties when trying to install it\\nI am used to switch to HDFS when dealing with large data file'"
      ]
     },
     "execution_count": 49,
     "metadata": {},
     "output_type": "execute_result"
    }
   ],
   "source": [
    "''' As this is coming out with a memory error I just reduce the booking lines for the next question\n",
    "I found pyspark interesting but I never used it and I came accross some difficulties when trying to install it\n",
    "I am used to switch to HDFS when dealing with large data file'''"
   ]
  },
  {
   "cell_type": "code",
   "execution_count": 50,
   "metadata": {
    "collapsed": true
   },
   "outputs": [],
   "source": [
    "Search2Booking = pd.merge(searches, booking.head(100000), how='left', on='s2bKey')"
   ]
  },
  {
   "cell_type": "code",
   "execution_count": 51,
   "metadata": {
    "collapsed": false
   },
   "outputs": [
    {
     "data": {
      "text/plain": [
       "' To mark searches that ends with a booking I just use notnull as I proceed with a left join'"
      ]
     },
     "execution_count": 51,
     "metadata": {},
     "output_type": "execute_result"
    }
   ],
   "source": [
    "''' To mark searches that ends with a booking I just use notnull as I proceed with a left join'''"
   ]
  },
  {
   "cell_type": "code",
   "execution_count": 52,
   "metadata": {
    "collapsed": true
   },
   "outputs": [],
   "source": [
    "Search2Booking['searchNbook'] =  pd.notnull(Search2Booking['dep_port'])*1"
   ]
  },
  {
   "cell_type": "code",
   "execution_count": 53,
   "metadata": {
    "collapsed": false
   },
   "outputs": [
    {
     "data": {
      "text/plain": [
       "1    87608362\n",
       "0    13013617\n",
       "Name: searchNbook, dtype: int64"
      ]
     },
     "execution_count": 53,
     "metadata": {},
     "output_type": "execute_result"
    }
   ],
   "source": [
    "Search2Booking['searchNbook'].value_counts()"
   ]
  },
  {
   "cell_type": "code",
   "execution_count": 54,
   "metadata": {
    "collapsed": false
   },
   "outputs": [
    {
     "data": {
      "text/html": [
       "<div>\n",
       "<table border=\"1\" class=\"dataframe\">\n",
       "  <thead>\n",
       "    <tr style=\"text-align: right;\">\n",
       "      <th></th>\n",
       "      <th>Date</th>\n",
       "      <th>Origin</th>\n",
       "      <th>Destination</th>\n",
       "      <th>NbSegments</th>\n",
       "      <th>monthSearch</th>\n",
       "      <th>s2bKey</th>\n",
       "      <th>dep_port</th>\n",
       "      <th>arr_port</th>\n",
       "      <th>pax</th>\n",
       "      <th>searchNbook</th>\n",
       "    </tr>\n",
       "  </thead>\n",
       "  <tbody>\n",
       "    <tr>\n",
       "      <th>0</th>\n",
       "      <td>2013-01-01</td>\n",
       "      <td>TXL</td>\n",
       "      <td>AUH</td>\n",
       "      <td>2</td>\n",
       "      <td>1</td>\n",
       "      <td>TXL--AUH</td>\n",
       "      <td>NaN</td>\n",
       "      <td>NaN</td>\n",
       "      <td>NaN</td>\n",
       "      <td>0</td>\n",
       "    </tr>\n",
       "    <tr>\n",
       "      <th>1</th>\n",
       "      <td>2013-01-01</td>\n",
       "      <td>ATH</td>\n",
       "      <td>MIL</td>\n",
       "      <td>1</td>\n",
       "      <td>1</td>\n",
       "      <td>ATH--MIL</td>\n",
       "      <td>NaN</td>\n",
       "      <td>NaN</td>\n",
       "      <td>NaN</td>\n",
       "      <td>0</td>\n",
       "    </tr>\n",
       "    <tr>\n",
       "      <th>2</th>\n",
       "      <td>2013-01-01</td>\n",
       "      <td>ICT</td>\n",
       "      <td>SFO</td>\n",
       "      <td>2</td>\n",
       "      <td>1</td>\n",
       "      <td>ICT--SFO</td>\n",
       "      <td>NaN</td>\n",
       "      <td>NaN</td>\n",
       "      <td>NaN</td>\n",
       "      <td>0</td>\n",
       "    </tr>\n",
       "    <tr>\n",
       "      <th>3</th>\n",
       "      <td>2013-01-01</td>\n",
       "      <td>RNB</td>\n",
       "      <td>ARN</td>\n",
       "      <td>1</td>\n",
       "      <td>1</td>\n",
       "      <td>RNB--ARN</td>\n",
       "      <td>RNB</td>\n",
       "      <td>ARN</td>\n",
       "      <td>1</td>\n",
       "      <td>1</td>\n",
       "    </tr>\n",
       "    <tr>\n",
       "      <th>4</th>\n",
       "      <td>2013-01-01</td>\n",
       "      <td>RNB</td>\n",
       "      <td>ARN</td>\n",
       "      <td>1</td>\n",
       "      <td>1</td>\n",
       "      <td>RNB--ARN</td>\n",
       "      <td>RNB</td>\n",
       "      <td>ARN</td>\n",
       "      <td>1</td>\n",
       "      <td>1</td>\n",
       "    </tr>\n",
       "  </tbody>\n",
       "</table>\n",
       "</div>"
      ],
      "text/plain": [
       "        Date Origin Destination  NbSegments  monthSearch    s2bKey dep_port  \\\n",
       "0 2013-01-01    TXL         AUH           2            1  TXL--AUH      NaN   \n",
       "1 2013-01-01    ATH         MIL           1            1  ATH--MIL      NaN   \n",
       "2 2013-01-01    ICT         SFO           2            1  ICT--SFO      NaN   \n",
       "3 2013-01-01    RNB         ARN           1            1  RNB--ARN      RNB   \n",
       "4 2013-01-01    RNB         ARN           1            1  RNB--ARN      RNB   \n",
       "\n",
       "  arr_port  pax  searchNbook  \n",
       "0      NaN  NaN            0  \n",
       "1      NaN  NaN            0  \n",
       "2      NaN  NaN            0  \n",
       "3      ARN    1            1  \n",
       "4      ARN    1            1  "
      ]
     },
     "execution_count": 54,
     "metadata": {},
     "output_type": "execute_result"
    }
   ],
   "source": [
    "Search2Booking.head()"
   ]
  },
  {
   "cell_type": "code",
   "execution_count": 55,
   "metadata": {
    "collapsed": false
   },
   "outputs": [],
   "source": [
    "Search2csv = Search2Booking.iloc[: , [0,1,2,3,9]]"
   ]
  },
  {
   "cell_type": "code",
   "execution_count": 56,
   "metadata": {
    "collapsed": false
   },
   "outputs": [],
   "source": [
    "Search2csv.to_csv('searchesWithBookingFlag.csv', sep='\\t', index=0)"
   ]
  },
  {
   "cell_type": "code",
   "execution_count": 57,
   "metadata": {
    "collapsed": true
   },
   "outputs": [],
   "source": [
    "##### JSON output without webservice #####"
   ]
  },
  {
   "cell_type": "code",
   "execution_count": 58,
   "metadata": {
    "collapsed": false
   },
   "outputs": [
    {
     "data": {
      "text/plain": [
       "' I am not able building a web service\\nbut I create the json ouput and make it flexible with the number of airport we want\\n\\nI creat a function to do so \\nI am using the precedent approch wrap in a function that return the desired number of airports\\nthen I download and upload the file for have a good looking\\nThe final file upload is then transformed in json before the function returns it \\n'"
      ]
     },
     "execution_count": 58,
     "metadata": {},
     "output_type": "execute_result"
    }
   ],
   "source": [
    "''' I am not able building a web service\n",
    "but I create the json ouput and make it flexible with the number of airport we want\n",
    "\n",
    "I creat a function to do so \n",
    "I am using the precedent approch wrap in a function that return the desired number of airports\n",
    "then I download and upload the file for have a good looking\n",
    "The final file upload is then transformed in json before the function returns it \n",
    "'''"
   ]
  },
  {
   "cell_type": "code",
   "execution_count": 59,
   "metadata": {
    "collapsed": true
   },
   "outputs": [],
   "source": [
    "def topNAirports(n):\n",
    "    if n > 0:\n",
    "        try :\n",
    "            rankAirports = pd.DataFrame((nbPaxbyAirport.sort_values(['pax'], axis=0, ascending=0)).head(n))\n",
    "        except :\n",
    "            raf = 'raf'\n",
    "            rankAirports = print('Expect integer value')\n",
    "    else:\n",
    "        rankAirports = print('Expect integer value > to 0')\n",
    "        \n",
    "    rankAirports.to_csv('rankAirports.txt', sep='\\t')\n",
    "    rankAirports = pd.read_csv('rankAirports.txt', sep='\\t', header=0)\n",
    "    os.remove('rankAirports.txt')\n",
    "    return rankAirports.to_json(orient='index')"
   ]
  },
  {
   "cell_type": "code",
   "execution_count": 60,
   "metadata": {
    "collapsed": false
   },
   "outputs": [
    {
     "data": {
      "text/plain": [
       "'{\"0\":{\"arr_port\":\"LHR\",\"pax\":88809},\"1\":{\"arr_port\":\"MCO\",\"pax\":70930},\"2\":{\"arr_port\":\"LAX\",\"pax\":70530},\"3\":{\"arr_port\":\"LAS\",\"pax\":69630},\"4\":{\"arr_port\":\"JFK\",\"pax\":66270},\"5\":{\"arr_port\":\"CDG\",\"pax\":64490},\"6\":{\"arr_port\":\"BKK\",\"pax\":59460},\"7\":{\"arr_port\":\"MIA\",\"pax\":58150},\"8\":{\"arr_port\":\"SFO\",\"pax\":58000},\"9\":{\"arr_port\":\"DXB\",\"pax\":55590}}'"
      ]
     },
     "execution_count": 60,
     "metadata": {},
     "output_type": "execute_result"
    }
   ],
   "source": [
    "topNAirports(10)"
   ]
  }
 ],
 "metadata": {
  "kernelspec": {
   "display_name": "Python 3",
   "language": "python",
   "name": "python3"
  },
  "language_info": {
   "codemirror_mode": {
    "name": "ipython",
    "version": 3
   },
   "file_extension": ".py",
   "mimetype": "text/x-python",
   "name": "python",
   "nbconvert_exporter": "python",
   "pygments_lexer": "ipython3",
   "version": "3.5.1"
  }
 },
 "nbformat": 4,
 "nbformat_minor": 0
}
